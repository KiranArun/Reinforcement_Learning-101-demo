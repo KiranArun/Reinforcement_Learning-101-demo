{
  "nbformat": 4,
  "nbformat_minor": 0,
  "metadata": {
    "colab": {
      "name": "A3C_meanings.ipynb",
      "version": "0.3.2",
      "views": {},
      "default_view": {},
      "provenance": []
    },
    "kernelspec": {
      "name": "python3",
      "display_name": "Python 3"
    }
  },
  "cells": [
    {
      "metadata": {
        "id": "qzEok9YYsWaA",
        "colab_type": "text"
      },
      "cell_type": "markdown",
      "source": [
        "# Definitions"
      ]
    },
    {
      "metadata": {
        "id": "RX8gE94XvYVE",
        "colab_type": "code",
        "colab": {
          "autoexec": {
            "startup": false,
            "wait_interval": 0
          }
        }
      },
      "cell_type": "code",
      "source": [
        "import numpy as np                     # our linear algebra library\n",
        "import matplotlib.pyplot as plt        # our plotting library\n",
        "import tensorflow as tf                # our machine learning library\n",
        "\n",
        "import gym                             # the environment library\n",
        "import cv2                             # our image processing library\n",
        "\n",
        "import time,os,sys\n",
        "from IPython.display import HTML,Image # to show videos and images\n",
        "\n",
        "import A3C_helper_functions as helper  # helper functions"
      ],
      "execution_count": 0,
      "outputs": []
    },
    {
      "metadata": {
        "id": "dEVUxdwZsox6",
        "colab_type": "text"
      },
      "cell_type": "markdown",
      "source": [
        "## State\n",
        "\n",
        "The state is what the current environment looks like.\n",
        "\n",
        "$s_t$ at time step $t$\n",
        "\n",
        "For us, it's the current frame of the game.\n",
        "\n",
        "Below images:\n",
        "- left - output of the environment\n",
        "- right - the processed frame, since this is what we use as input, this is our state"
      ]
    },
    {
      "metadata": {
        "id": "Wy7laservVVc",
        "colab_type": "code",
        "colab": {
          "autoexec": {
            "startup": false,
            "wait_interval": 0
          },
          "base_uri": "https://localhost:8080/",
          "height": 498
        },
        "outputId": "17a363ae-91c2-4816-b905-30b38221ae18",
        "executionInfo": {
          "status": "ok",
          "timestamp": 1529658327870,
          "user_tz": -60,
          "elapsed": 1344,
          "user": {
            "displayName": "Kiran Arun",
            "photoUrl": "//lh4.googleusercontent.com/-8IeZZ41ybbo/AAAAAAAAAAI/AAAAAAAACkI/_LkIlaW8I6g/s50-c-k-no/photo.jpg",
            "userId": "105201401933439284277"
          }
        }
      },
      "cell_type": "code",
      "source": [
        "fig,ax = plt.subplots(1,2, figsize=(14,8))\n",
        "helper.Display_example_frames(fig,ax)"
      ],
      "execution_count": 3,
      "outputs": [
        {
          "output_type": "display_data",
          "data": {
            "image/png": "[encoded data removed]",
            "text/plain": [
              "<matplotlib.figure.Figure at 0x7fa46ebb1748>"
            ]
          },
          "metadata": {
            "tags": []
          }
        }
      ]
    },
    {
      "metadata": {
        "id": "g3_q2jADsrDy",
        "colab_type": "text"
      },
      "cell_type": "markdown",
      "source": [
        "## Reward\n",
        "\n",
        "The score increment at the current step.\n",
        "\n",
        "### $r_t$ at time step $t$\n",
        " \n",
        "When the Environment takes a step, you'll get a reward (points for whatever happened).\n",
        "\n",
        "The **Total Reward** is all rewards summed up for that game.\n",
        "\n",
        "## $R = \\sum_{t=0}^{\\infty}r_t$"
      ]
    },
    {
      "metadata": {
        "id": "W49S-RcXsZV_",
        "colab_type": "text"
      },
      "cell_type": "markdown",
      "source": [
        "## Discount\n",
        "\n",
        "When calculate the value, we want to prioritise rewards in the near future.\n",
        "\n",
        "## $d(x,\\gamma)_t = \\sum_{k=0}\\gamma^kx_{t+k}$\n",
        "\n",
        "- this stops the total reward becomming infinite\n",
        "- this means it would rather get reward sooner rather than later\n",
        "\n",
        "The bigger **Gamma** ($\\gamma$) is, the more we take into consideration long term rewards."
      ]
    },
    {
      "metadata": {
        "id": "Ras9UoEPscAP",
        "colab_type": "text"
      },
      "cell_type": "markdown",
      "source": [
        "## Value\n",
        "\n",
        "This is the total future reward, starting from the current state.\n",
        "\n",
        "## $V(s_t;\\pi) = \\sum_{k=0}^{\\infty}r_{t+k}$"
      ]
    },
    {
      "metadata": {
        "id": "_zgYYgIvsd8u",
        "colab_type": "text"
      },
      "cell_type": "markdown",
      "source": [
        "## Policy\n",
        "\n",
        "This is the part making the probabilities for the actions.\n",
        "\n",
        "## $\\pi$"
      ]
    },
    {
      "metadata": {
        "id": "K45kr8Eisfjm",
        "colab_type": "text"
      },
      "cell_type": "markdown",
      "source": [
        "## Boltzmann approach\n",
        "\n",
        "This is a method of picking actions to play out.\n",
        "\n",
        "We have 6 possible actions, and get a probability for each (using the policy):\n",
        "\n",
        "- if we pick at random, we are going to end up picking actions we already know we shouldn't pick\n",
        "- if we choose the most likely option, we wont explore enough (try different actions out)\n",
        "- we pick actions at random based on their probabilities\n",
        "\n",
        "The action probabilities will look something like this:\n",
        "\n",
        "$\n",
        "\\begin{bmatrix}\n",
        "0.002 & 0.03 & 0.82 & 0.01 & 0.13 & 0.008\n",
        "\\end{bmatrix}\n",
        "$"
      ]
    },
    {
      "metadata": {
        "id": "iPuF8Ovpsi2R",
        "colab_type": "text"
      },
      "cell_type": "markdown",
      "source": [
        "## Advantage\n",
        "\n",
        "This is a way of critiquing the actions taken by comparing them to the actions with the highest probability.\n",
        "\n",
        "## $A_t = \\sum_{k=0}^K \\gamma^k(r_{t+k} - (v_{t+k} - \\gamma v_{t+k+1}))$\n",
        "\n",
        "- $v_{t+k} - \\gamma v_{t+k+1}$ = predicted reward of time step $t+k$\n",
        "- $r_{t+k}$ = actual reward of timestep $t+k$\n",
        "\n",
        "This basically means the reward from taking an action - the reward we would have got using the current policy.\n",
        "\n",
        "- \\> 0 means action taken was better than current policy\n",
        "- < 0 means action taken was worse than current policy"
      ]
    }
  ]
}